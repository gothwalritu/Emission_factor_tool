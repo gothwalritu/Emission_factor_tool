{
 "cells": [
  {
   "cell_type": "code",
   "execution_count": 47,
   "metadata": {},
   "outputs": [],
   "source": [
    "# import library\n",
    "\n",
    "import pandas as pd\n",
    "import matplotlib.pyplot as plt\n",
    "import numpy as np\n",
    "import seaborn as sns\n",
    "%matplotlib inline"
   ]
  },
  {
   "cell_type": "code",
   "execution_count": 48,
   "metadata": {},
   "outputs": [
    {
     "data": {
      "text/html": [
       "<div>\n",
       "<style scoped>\n",
       "    .dataframe tbody tr th:only-of-type {\n",
       "        vertical-align: middle;\n",
       "    }\n",
       "\n",
       "    .dataframe tbody tr th {\n",
       "        vertical-align: top;\n",
       "    }\n",
       "\n",
       "    .dataframe thead th {\n",
       "        text-align: right;\n",
       "    }\n",
       "</style>\n",
       "<table border=\"1\" class=\"dataframe\">\n",
       "  <thead>\n",
       "    <tr style=\"text-align: right;\">\n",
       "      <th></th>\n",
       "      <th>Company Name</th>\n",
       "      <th>State</th>\n",
       "      <th>Data Year</th>\n",
       "      <th>Utility Specific Residual Mix Emissions Rate (lbs CO2/MWh)</th>\n",
       "      <th>Utility Average Emissions Rate (lbs CO2/MWh)</th>\n",
       "      <th>Protocol</th>\n",
       "      <th>Emissions Certified- EPA Part 75</th>\n",
       "      <th>Emission Totals and Intensity Rates: Third-Party Verified</th>\n",
       "    </tr>\n",
       "  </thead>\n",
       "  <tbody>\n",
       "    <tr>\n",
       "      <th>0</th>\n",
       "      <td>Algonquin Power and Utilities Corp, Liberty Ut...</td>\n",
       "      <td>AR</td>\n",
       "      <td>2021.0</td>\n",
       "      <td>924.7</td>\n",
       "      <td>630.04</td>\n",
       "      <td>WRI/WBCSD</td>\n",
       "      <td>--</td>\n",
       "      <td>No</td>\n",
       "    </tr>\n",
       "    <tr>\n",
       "      <th>1</th>\n",
       "      <td>Algonquin Power and Utilities Corp, Liberty Ut...</td>\n",
       "      <td>AR</td>\n",
       "      <td>2022.0</td>\n",
       "      <td>906.56</td>\n",
       "      <td>686.68</td>\n",
       "      <td>WRI/WBCSD</td>\n",
       "      <td>--</td>\n",
       "      <td>Other</td>\n",
       "    </tr>\n",
       "    <tr>\n",
       "      <th>2</th>\n",
       "      <td>Algonquin Power and Utilities Corp, Liberty Ut...</td>\n",
       "      <td>CA</td>\n",
       "      <td>2021.0</td>\n",
       "      <td>837.36</td>\n",
       "      <td>837.36</td>\n",
       "      <td>WRI/WBCSD</td>\n",
       "      <td>--</td>\n",
       "      <td>No</td>\n",
       "    </tr>\n",
       "    <tr>\n",
       "      <th>3</th>\n",
       "      <td>Algonquin Power and Utilities Corp, Liberty Ut...</td>\n",
       "      <td>CA</td>\n",
       "      <td>2022.0</td>\n",
       "      <td>971.7</td>\n",
       "      <td>971.7</td>\n",
       "      <td>WRI/WBCSD</td>\n",
       "      <td>--</td>\n",
       "      <td>Other</td>\n",
       "    </tr>\n",
       "    <tr>\n",
       "      <th>4</th>\n",
       "      <td>Algonquin Power and Utilities Corp, Liberty Ut...</td>\n",
       "      <td>KS</td>\n",
       "      <td>2021.0</td>\n",
       "      <td>924.7</td>\n",
       "      <td>630.04</td>\n",
       "      <td>WRI/WBCSD</td>\n",
       "      <td>--</td>\n",
       "      <td>No</td>\n",
       "    </tr>\n",
       "  </tbody>\n",
       "</table>\n",
       "</div>"
      ],
      "text/plain": [
       "                                        Company Name State  Data Year  \\\n",
       "0  Algonquin Power and Utilities Corp, Liberty Ut...    AR     2021.0   \n",
       "1  Algonquin Power and Utilities Corp, Liberty Ut...    AR     2022.0   \n",
       "2  Algonquin Power and Utilities Corp, Liberty Ut...    CA     2021.0   \n",
       "3  Algonquin Power and Utilities Corp, Liberty Ut...    CA     2022.0   \n",
       "4  Algonquin Power and Utilities Corp, Liberty Ut...    KS     2021.0   \n",
       "\n",
       "  Utility Specific Residual Mix Emissions Rate (lbs CO2/MWh)  \\\n",
       "0                                              924.7           \n",
       "1                                             906.56           \n",
       "2                                             837.36           \n",
       "3                                              971.7           \n",
       "4                                              924.7           \n",
       "\n",
       "  Utility Average Emissions Rate (lbs CO2/MWh)   Protocol  \\\n",
       "0                                       630.04  WRI/WBCSD   \n",
       "1                                       686.68  WRI/WBCSD   \n",
       "2                                       837.36  WRI/WBCSD   \n",
       "3                                        971.7  WRI/WBCSD   \n",
       "4                                       630.04  WRI/WBCSD   \n",
       "\n",
       "  Emissions Certified- EPA Part 75   \\\n",
       "0                                --   \n",
       "1                                --   \n",
       "2                                --   \n",
       "3                                --   \n",
       "4                                --   \n",
       "\n",
       "  Emission Totals and Intensity Rates: Third-Party Verified  \n",
       "0                                                 No         \n",
       "1                                              Other         \n",
       "2                                                 No         \n",
       "3                                              Other         \n",
       "4                                                 No         "
      ]
     },
     "execution_count": 48,
     "metadata": {},
     "output_type": "execute_result"
    }
   ],
   "source": [
    "file_path = 'EEI_UtilityCO2EmissionsDatabase June 2023_copy.xlsx'\n",
    "df_market = pd.read_excel(file_path, skiprows=0, engine='openpyxl')\n",
    "df_market.head()"
   ]
  },
  {
   "cell_type": "code",
   "execution_count": 49,
   "metadata": {},
   "outputs": [
    {
     "data": {
      "text/plain": [
       "(161, 8)"
      ]
     },
     "execution_count": 49,
     "metadata": {},
     "output_type": "execute_result"
    }
   ],
   "source": [
    "df_market.shape"
   ]
  },
  {
   "cell_type": "code",
   "execution_count": 50,
   "metadata": {},
   "outputs": [
    {
     "data": {
      "text/plain": [
       "Company Name                                                   object\n",
       "State                                                          object\n",
       "Data Year                                                     float64\n",
       "Utility Specific Residual Mix Emissions Rate (lbs CO2/MWh)     object\n",
       "Utility Average Emissions Rate (lbs CO2/MWh)                   object\n",
       "Protocol                                                       object\n",
       "Emissions Certified- EPA Part 75                               object\n",
       "Emission Totals and Intensity Rates: Third-Party Verified      object\n",
       "dtype: object"
      ]
     },
     "execution_count": 50,
     "metadata": {},
     "output_type": "execute_result"
    }
   ],
   "source": [
    "df_market.dtypes"
   ]
  },
  {
   "cell_type": "code",
   "execution_count": 51,
   "metadata": {},
   "outputs": [
    {
     "data": {
      "text/plain": [
       "3"
      ]
     },
     "execution_count": 51,
     "metadata": {},
     "output_type": "execute_result"
    }
   ],
   "source": [
    "df_market['Data Year'].isna().sum()"
   ]
  },
  {
   "cell_type": "code",
   "execution_count": 52,
   "metadata": {},
   "outputs": [
    {
     "name": "stdout",
     "output_type": "stream",
     "text": [
      "There are missing values in the 'Data Year' column. Filling with a default value.\n",
      "Company Name                                                  object\n",
      "State                                                         object\n",
      "Data Year                                                      int32\n",
      "Utility Specific Residual Mix Emissions Rate (lbs CO2/MWh)    object\n",
      "Utility Average Emissions Rate (lbs CO2/MWh)                  object\n",
      "Protocol                                                      object\n",
      "Emissions Certified- EPA Part 75                              object\n",
      "Emission Totals and Intensity Rates: Third-Party Verified     object\n",
      "dtype: object\n",
      "                                          Company Name  State  Data Year  \\\n",
      "0    Algonquin Power and Utilities Corp, Liberty Ut...     AR       2021   \n",
      "1    Algonquin Power and Utilities Corp, Liberty Ut...     AR       2022   \n",
      "2    Algonquin Power and Utilities Corp, Liberty Ut...     CA       2021   \n",
      "3    Algonquin Power and Utilities Corp, Liberty Ut...     CA       2022   \n",
      "4    Algonquin Power and Utilities Corp, Liberty Ut...     KS       2021   \n",
      "..                                                 ...    ...        ...   \n",
      "156    Xcel Energy Southwestern Public Service Company  NM/TX       2021   \n",
      "157    Xcel Energy Southwestern Public Service Company  NM/TX       2022   \n",
      "158  Source: EEI, Electric Company CO2 and Resource...    NaN          0   \n",
      "159  Contact: Adam Cooper and Alex Young (ACooper@e...    NaN          0   \n",
      "160                        Last Updated: July 17, 2023    NaN          0   \n",
      "\n",
      "    Utility Specific Residual Mix Emissions Rate (lbs CO2/MWh)  \\\n",
      "0                                                924.7           \n",
      "1                                               906.56           \n",
      "2                                               837.36           \n",
      "3                                                971.7           \n",
      "4                                                924.7           \n",
      "..                                                 ...           \n",
      "156                                               1006           \n",
      "157                                                976           \n",
      "158                                                NaN           \n",
      "159                                                NaN           \n",
      "160                                                NaN           \n",
      "\n",
      "    Utility Average Emissions Rate (lbs CO2/MWh)              Protocol  \\\n",
      "0                                         630.04             WRI/WBCSD   \n",
      "1                                         686.68             WRI/WBCSD   \n",
      "2                                         837.36             WRI/WBCSD   \n",
      "3                                          971.7             WRI/WBCSD   \n",
      "4                                         630.04             WRI/WBCSD   \n",
      "..                                           ...                   ...   \n",
      "156                                         1006  The Climate Registry   \n",
      "157                                          976  The Climate Registry   \n",
      "158                                          NaN                   NaN   \n",
      "159                                          NaN                   NaN   \n",
      "160                                          NaN                   NaN   \n",
      "\n",
      "    Emissions Certified- EPA Part 75   \\\n",
      "0                                  --   \n",
      "1                                  --   \n",
      "2                                  --   \n",
      "3                                  --   \n",
      "4                                  --   \n",
      "..                                ...   \n",
      "156                                --   \n",
      "157                                --   \n",
      "158                               NaN   \n",
      "159                               NaN   \n",
      "160                               NaN   \n",
      "\n",
      "    Emission Totals and Intensity Rates: Third-Party Verified  \n",
      "0                                                   No         \n",
      "1                                                Other         \n",
      "2                                                   No         \n",
      "3                                                Other         \n",
      "4                                                   No         \n",
      "..                                                 ...         \n",
      "156                                                 No         \n",
      "157                                                 No         \n",
      "158                                                NaN         \n",
      "159                                                NaN         \n",
      "160                                                NaN         \n",
      "\n",
      "[161 rows x 8 columns]\n"
     ]
    }
   ],
   "source": [
    "# Check for missing or non-finite values in \"Data Year\"\n",
    "if df_market['Data Year'].isna().sum() > 0:\n",
    "    print(\"There are missing values in the 'Data Year' column. Filling with a default value.\")\n",
    "    # Fill missing values with a default year, e.g., 0 or a placeholder\n",
    "    df_market['Data Year'] = df_market['Data Year'].fillna(0)\n",
    "\n",
    "# Convert \"Data Year\" column to integers\n",
    "df_market['Data Year'] = df_market['Data Year'].astype(int)\n",
    "\n",
    "# Verify the changes\n",
    "print(df_market.dtypes)\n",
    "print(df_market)"
   ]
  },
  {
   "cell_type": "code",
   "execution_count": null,
   "metadata": {},
   "outputs": [],
   "source": [
    "# Convert 'Data Year' column from float to integer\n",
    "df_market['Data Year'] = df_market['Data Year'].fillna(0).astype(int)\n",
    "\n",
    "# Display the DataFrame to verify changes\n",
    "df_market.head()"
   ]
  },
  {
   "cell_type": "code",
   "execution_count": 53,
   "metadata": {},
   "outputs": [
    {
     "name": "stdout",
     "output_type": "stream",
     "text": [
      "File saved at: ../Emission_factor_tool\\EEI_clean.csv\n"
     ]
    }
   ],
   "source": [
    "import os\n",
    "\n",
    "# Define the output folder and file\n",
    "output_folder = '../Emission_factor_tool'\n",
    "output_file = 'EEI_clean.csv'\n",
    "output_path = os.path.join(output_folder, output_file)\n",
    "\n",
    "# Save the updated DataFrame to the CSV file\n",
    "df_market.to_csv(output_path, index=False)\n",
    "\n",
    "\n",
    "print(f\"File saved at: {output_path}\")"
   ]
  },
  {
   "cell_type": "code",
   "execution_count": 54,
   "metadata": {},
   "outputs": [
    {
     "data": {
      "text/plain": [
       "Company Name                                                  object\n",
       "State                                                         object\n",
       "Data Year                                                      int32\n",
       "Utility Specific Residual Mix Emissions Rate (lbs CO2/MWh)    object\n",
       "Utility Average Emissions Rate (lbs CO2/MWh)                  object\n",
       "Protocol                                                      object\n",
       "Emissions Certified- EPA Part 75                              object\n",
       "Emission Totals and Intensity Rates: Third-Party Verified     object\n",
       "dtype: object"
      ]
     },
     "execution_count": 54,
     "metadata": {},
     "output_type": "execute_result"
    }
   ],
   "source": [
    "df_market.dtypes"
   ]
  }
 ],
 "metadata": {
  "kernelspec": {
   "display_name": "Python 3",
   "language": "python",
   "name": "python3"
  },
  "language_info": {
   "codemirror_mode": {
    "name": "ipython",
    "version": 3
   },
   "file_extension": ".py",
   "mimetype": "text/x-python",
   "name": "python",
   "nbconvert_exporter": "python",
   "pygments_lexer": "ipython3",
   "version": "3.11.9"
  }
 },
 "nbformat": 4,
 "nbformat_minor": 2
}

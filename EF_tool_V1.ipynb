{
 "cells": [
  {
   "cell_type": "code",
   "execution_count": 20,
   "metadata": {},
   "outputs": [
    {
     "name": "stdout",
     "output_type": "stream",
     "text": [
      "  eGRID Subregion Acronym       eGRID Subregion Name  CO2 Factor (lb / MWh)  \\\n",
      "0                    AKGD    AKGD (ASCC Alaska Grid)                 1067.7   \n",
      "1                    AKMS  AKMS (ASCC Miscellaneous)                  485.2   \n",
      "2                    AZNM      AZNM (WECC Southwest)                  819.7   \n",
      "3                    CAMX     CAMX (WECC California)                  531.7   \n",
      "4                    ERCT           ERCT (ERCOT All)                  813.6   \n",
      "\n",
      "   CH4 Factor (lb / MWh)  N2O Factor (lb / MWh)  \n",
      "0                  0.091                  0.012  \n",
      "1                  0.025                  0.004  \n",
      "2                  0.052                  0.007  \n",
      "3                  0.031                  0.004  \n",
      "4                  0.054                  0.008  \n",
      "  Global Warming Potential     SAR    AR4    AR5\n",
      "0                      CO2     1.0      1      1\n",
      "1                      CH4    21.0     25     28\n",
      "2                      N2O   310.0    298    265\n",
      "3                   CFC-11  3800.0   4750   4660\n",
      "4                   CFC-12  8100.0  10900  10200\n",
      "{'CO2': 1, 'CH4': 28, 'N2O': 265}\n",
      "GWP Values Used: CO2 = 1, CH4 = 28, N2O = 265\n"
     ]
    },
    {
     "data": {
      "text/plain": [
       "{'CO2 (mt/kWh)': 0.00040455870479999995,\n",
       " 'CH4 (mt/kWh)': 8.509385920000001e-07,\n",
       " 'N2O (mt/kWh)': 1.2020188000000001e-06,\n",
       " 'Total CO2e (mtCO2e/kWh)': 0.00040661166219199994}"
      ]
     },
     "execution_count": 20,
     "metadata": {},
     "output_type": "execute_result"
    }
   ],
   "source": [
    "# Import required libraries\n",
    "import pandas as pd\n",
    "import matplotlib.pyplot as plt\n",
    "import numpy as np\n",
    "import seaborn as sns\n",
    "import os\n",
    "%matplotlib inline\n",
    "\n",
    "# File paths\n",
    "file_path = '../Emission factor tool/Raw eGRID EF.xlsx'\n",
    "gwp_file_path = '../Emission factor tool/GWP.xlsx'\n",
    "\n",
    "# Load the data\n",
    "df = pd.read_excel(file_path, engine='openpyxl')\n",
    "gwp_df = pd.read_excel(gwp_file_path)\n",
    "\n",
    "# Display the first few rows to ensure the data loaded correctly\n",
    "print(df.head())\n",
    "print(gwp_df.head())\n",
    "\n",
    "# Extract relevant GWP values from the AR5 column\n",
    "gwp_values = {\n",
    "    'CO2': gwp_df[gwp_df['Global Warming Potential'] == 'CO2']['AR5'].values[0],\n",
    "    'CH4': gwp_df[gwp_df['Global Warming Potential'] == 'CH4']['AR5'].values[0],\n",
    "    'N2O': gwp_df[gwp_df['Global Warming Potential'] == 'N2O']['AR5'].values[0]\n",
    "}\n",
    "print(gwp_values)\n",
    "\n",
    "# Conversion factor from lb/MWh to mt/kWh (corrected)\n",
    "conversion_factor = 4.53592e-7\n",
    "\n",
    "# Function to convert raw factors to mtCO2e/kWh\n",
    "def convert_to_mtco2e(co2, ch4, n2o):\n",
    "    co2_mt = co2 * conversion_factor * gwp_values['CO2']\n",
    "    ch4_mt = ch4 * conversion_factor * gwp_values['CH4']\n",
    "    n2o_mt = n2o * conversion_factor * gwp_values['N2O']\n",
    "    total_mtco2e = co2_mt + ch4_mt + n2o_mt\n",
    "    return total_mtco2e\n",
    "\n",
    "# Function to get emission factors, convert them, and display GWP values\n",
    "def get_emission_factors_and_convert(acronym):\n",
    "    result = df[df['eGRID Subregion Acronym'].str.upper() == acronym.upper()]\n",
    "    if not result.empty:\n",
    "        co2 = result['CO2 Factor (lb / MWh)'].values[0]\n",
    "        ch4 = result['CH4 Factor (lb / MWh)'].values[0]\n",
    "        n2o = result['N2O Factor (lb / MWh)'].values[0]\n",
    "        total_mtco2e = convert_to_mtco2e(co2, ch4, n2o)\n",
    "        \n",
    "        # Print GWP values\n",
    "        print(f\"GWP Values Used: CO2 = {gwp_values['CO2']}, CH4 = {gwp_values['CH4']}, N2O = {gwp_values['N2O']}\")\n",
    "        \n",
    "        return {\n",
    "            'CO2 (mt/kWh)': co2 * conversion_factor * gwp_values['CO2'],\n",
    "            'CH4 (mt/kWh)': ch4 * conversion_factor * gwp_values['CH4'],\n",
    "            'N2O (mt/kWh)': n2o * conversion_factor * gwp_values['N2O'],\n",
    "            'Total CO2e (mtCO2e/kWh)': total_mtco2e\n",
    "        }\n",
    "    else:\n",
    "        return \"Acronym not found!\"\n",
    "\n",
    "# Example of providing the acronym input directly\n",
    "acronym_input = \"SRSO\"\n",
    "\n",
    "# Get the factors and converted result for the provided acronym\n",
    "factors_converted = get_emission_factors_and_convert(acronym_input)\n",
    "\n",
    "# Display the result\n",
    "factors_converted"
   ]
  }
 ],
 "metadata": {
  "kernelspec": {
   "display_name": "Python 3",
   "language": "python",
   "name": "python3"
  },
  "language_info": {
   "codemirror_mode": {
    "name": "ipython",
    "version": 3
   },
   "file_extension": ".py",
   "mimetype": "text/x-python",
   "name": "python",
   "nbconvert_exporter": "python",
   "pygments_lexer": "ipython3",
   "version": "3.11.9"
  }
 },
 "nbformat": 4,
 "nbformat_minor": 2
}

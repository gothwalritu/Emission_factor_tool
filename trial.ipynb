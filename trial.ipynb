# File path
market_file_path = 'EEI_clean.csv'

# Load the data
df_market = pd.read_csv(market_file_path)

# Clean the column names to avoid issues
df_market.columns = df_market.columns.str.strip().str.lower()

# Rename columns to more usable names
df_market.columns = [
    'company_name', 'state', 'data_year', 'utility_specific_residual_mix_emission_rate',
    'utility_avg_emission_rate', 'protocol', 'emissions_certified', 'emission_totals_intensity'
]